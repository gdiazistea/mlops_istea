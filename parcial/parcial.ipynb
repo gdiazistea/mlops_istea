{
 "cells": [
  {
   "cell_type": "code",
   "execution_count": 10,
   "id": "f62350e3",
   "metadata": {},
   "outputs": [],
   "source": [
    "import pandas as pd\n",
    "from sklearn.tree import DecisionTreeClassifier\n",
    "from sklearn.metrics import accuracy_score, f1_score, classification_report\n",
    "import mlflow\n",
    "import mlflow.sklearn\n",
    "import pickle\n",
    "from mlflow import get_artifact_uri "
   ]
  },
  {
   "cell_type": "code",
   "execution_count": 3,
   "id": "5c1b6c7a",
   "metadata": {},
   "outputs": [],
   "source": [
    "train_df = pd.read_csv(\"data/train.csv\")\n",
    "test_df = pd.read_csv(\"data/test.csv\")\n",
    "\n",
    "X_train = train_df.drop(\"label\", axis=1)\n",
    "y_train = train_df[\"label\"]\n",
    "\n",
    "X_test = test_df.drop(\"label\", axis=1)\n",
    "y_test = test_df[\"label\"]\n"
   ]
  },
  {
   "cell_type": "code",
   "execution_count": 5,
   "id": "68d0e7b7",
   "metadata": {},
   "outputs": [
    {
     "name": "stdout",
     "output_type": "stream",
     "text": [
      "0.33\n"
     ]
    }
   ],
   "source": [
    "proporcion_A = (train_df['label'] == 'A').mean().round(2)\n",
    "print(proporcion_A)\n"
   ]
  },
  {
   "cell_type": "code",
   "execution_count": 6,
   "id": "05cb1830",
   "metadata": {},
   "outputs": [
    {
     "name": "stdout",
     "output_type": "stream",
     "text": [
      "0\n"
     ]
    }
   ],
   "source": [
    "total_nans = train_df.isna().sum().sum()\n",
    "print(total_nans)"
   ]
  },
  {
   "cell_type": "code",
   "execution_count": 20,
   "id": "883049a8",
   "metadata": {},
   "outputs": [
    {
     "name": "stderr",
     "output_type": "stream",
     "text": [
      "\u001b[31m2025/05/07 00:29:56 WARNING mlflow.models.model: Model logged without a signature and input example. Please set `input_example` parameter when logging the model to auto infer the model signature.\u001b[0m\n"
     ]
    },
    {
     "name": "stdout",
     "output_type": "stream",
     "text": [
      "Accuracy: 0.28\n",
      "F1 Score: 0.27\n"
     ]
    }
   ],
   "source": [
    "with mlflow.start_run():\n",
    "    # Entrenar modelo con parámetros específicos\n",
    "    model = DecisionTreeClassifier(max_depth=3, min_samples_split=4, random_state=42)\n",
    "    model.fit(X_train, y_train)\n",
    "\n",
    "    # Predicciones\n",
    "    y_pred = model.predict(X_test)\n",
    "\n",
    "    # Métricas\n",
    "    acc = accuracy_score(y_test, y_pred)\n",
    "    f1 = f1_score(y_test, y_pred, average='weighted')  # Promedio ponderado para multiclase\n",
    "\n",
    "    mlflow.log_metric(\"accuracy\", acc)\n",
    "    mlflow.log_metric(\"f1_score\", f1)\n",
    "\n",
    "    # Log de clasificación\n",
    "    # Registrar parámetros y métricas\n",
    "    mlflow.log_param(\"max_depth\", 3)\n",
    "    mlflow.log_param(\"min_samples_split\", 4)\n",
    "    mlflow.log_metric(\"accuracy\", acc)\n",
    "    mlflow.log_metric(\"f1_score\", f1)\n",
    "\n",
    "\n",
    "    # Guardar el modelo como un archivo .pkl\n",
    "    with open(\"model_1.pkl\", \"wb\") as f:\n",
    "        pickle.dump(model, f)\n",
    "\n",
    "    # Log del modelo a MLFlow\n",
    "    mlflow.log_artifact(\"model_1.pkl\")\n",
    "\n",
    "    # Log del modelo como un modelo MLFlow\n",
    "    mlflow.sklearn.log_model(model, \"decision_tree_model\")\n",
    "\n",
    "    print(f\"Accuracy: {acc:.2f}\")\n",
    "    print(f\"F1 Score: {f1:.2f}\")"
   ]
  },
  {
   "cell_type": "code",
   "execution_count": 17,
   "id": "5bfec4e1",
   "metadata": {},
   "outputs": [
    {
     "name": "stdout",
     "output_type": "stream",
     "text": [
      "Accuracy: 0.28\n",
      "F1 Score: 0.27\n"
     ]
    }
   ],
   "source": [
    "print(f\"Accuracy: {acc:.2f}\")\n",
    "print(f\"F1 Score: {f1:.2f}\")"
   ]
  },
  {
   "cell_type": "code",
   "execution_count": 15,
   "id": "21d765f9",
   "metadata": {},
   "outputs": [],
   "source": [
    "if mlflow.active_run():\n",
    "    mlflow.end_run()"
   ]
  },
  {
   "cell_type": "code",
   "execution_count": 11,
   "id": "9f4fe34a",
   "metadata": {},
   "outputs": [
    {
     "name": "stdout",
     "output_type": "stream",
     "text": [
      "file:///home/gonzadzz/GitHub/mlops_istea/parcial/mlruns/0/1b10fe0bbe004c2ea2674dd5268cfc62/artifacts/model_1.pkl\n"
     ]
    }
   ],
   "source": [
    "uri = get_artifact_uri(\"model_1.pkl\") \n",
    "\n",
    "print(uri)"
   ]
  },
  {
   "cell_type": "code",
   "execution_count": 18,
   "id": "2c6dda5a",
   "metadata": {},
   "outputs": [],
   "source": [
    "with mlflow.start_run():\n",
    "    # Entrenar modelo con parámetros max_depth=5\n",
    "    model = DecisionTreeClassifier(max_depth=5, min_samples_split=2, random_state=42)\n",
    "    model.fit(X_train, y_train)\n",
    "\n",
    "    # Predicciones\n",
    "    y_pred = model.predict(X_test)\n",
    "\n",
    "    # Métricas\n",
    "    acc = accuracy_score(y_test, y_pred)\n",
    "    f1 = f1_score(y_test, y_pred, average='weighted')  # Promedio ponderado para multiclase\n",
    "\n",
    "    mlflow.log_metric(\"accuracy\", acc)\n",
    "    mlflow.log_metric(\"f1_score\", f1)\n",
    "\n",
    "    # Log de clasificación\n",
    "    report = classification_report(y_test, y_pred, output_dict=True)\n",
    "    for label, metrics in report.items():\n",
    "        if isinstance(metrics, dict):\n",
    "            for metric_name, value in metrics.items():\n",
    "                mlflow.log_metric(f\"{label}_{metric_name}\", value)\n",
    "\n",
    "    # Guardar el modelo como un archivo .pkl\n",
    "    with open(\"model_2.pkl\", \"wb\") as f:\n",
    "        pickle.dump(model, f)\n",
    "        \n",
    "    # Log del modelo a MLFlow\n",
    "    mlflow.log_artifact(\"model_2.pkl\")"
   ]
  },
  {
   "cell_type": "code",
   "execution_count": 19,
   "id": "dd85dd23",
   "metadata": {},
   "outputs": [
    {
     "name": "stdout",
     "output_type": "stream",
     "text": [
      "Accuracy: 0.15\n",
      "F1 Score: 0.16\n"
     ]
    }
   ],
   "source": [
    "print(f\"Accuracy: {acc:.2f}\")\n",
    "print(f\"F1 Score: {f1:.2f}\")"
   ]
  }
 ],
 "metadata": {
  "kernelspec": {
   "display_name": ".venv",
   "language": "python",
   "name": "python3"
  },
  "language_info": {
   "codemirror_mode": {
    "name": "ipython",
    "version": 3
   },
   "file_extension": ".py",
   "mimetype": "text/x-python",
   "name": "python",
   "nbconvert_exporter": "python",
   "pygments_lexer": "ipython3",
   "version": "3.12.3"
  }
 },
 "nbformat": 4,
 "nbformat_minor": 5
}
