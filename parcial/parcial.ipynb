{
 "cells": [
  {
   "cell_type": "code",
   "execution_count": 10,
   "id": "f62350e3",
   "metadata": {},
   "outputs": [],
   "source": [
    "import pandas as pd\n",
    "from sklearn.tree import DecisionTreeClassifier\n",
    "from sklearn.metrics import accuracy_score, f1_score, classification_report\n",
    "import mlflow\n",
    "import mlflow.sklearn\n",
    "import pickle\n",
    "from mlflow import get_artifact_uri "
   ]
  },
  {
   "cell_type": "code",
   "execution_count": 3,
   "id": "5c1b6c7a",
   "metadata": {},
   "outputs": [],
   "source": [
    "train_df = pd.read_csv(\"data/train.csv\")\n",
    "test_df = pd.read_csv(\"data/test.csv\")\n",
    "\n",
    "X_train = train_df.drop(\"label\", axis=1)\n",
    "y_train = train_df[\"label\"]\n",
    "\n",
    "X_test = test_df.drop(\"label\", axis=1)\n",
    "y_test = test_df[\"label\"]\n"
   ]
  },
  {
   "cell_type": "code",
   "execution_count": 5,
   "id": "68d0e7b7",
   "metadata": {},
   "outputs": [
    {
     "name": "stdout",
     "output_type": "stream",
     "text": [
      "0.33\n"
     ]
    }
   ],
   "source": [
    "proporcion_A = (train_df['label'] == 'A').mean().round(2)\n",
    "print(proporcion_A)\n"
   ]
  },
  {
   "cell_type": "code",
   "execution_count": 6,
   "id": "05cb1830",
   "metadata": {},
   "outputs": [
    {
     "name": "stdout",
     "output_type": "stream",
     "text": [
      "0\n"
     ]
    }
   ],
   "source": [
    "total_nans = train_df.isna().sum().sum()\n",
    "print(total_nans)"
   ]
  },
  {
   "cell_type": "code",
   "execution_count": 21,
   "id": "ade377ac",
   "metadata": {},
   "outputs": [
    {
     "name": "stderr",
     "output_type": "stream",
     "text": [
      "2025/05/07 00:50:53 INFO mlflow.tracking.fluent: Experiment with name 'decision_tree_training' does not exist. Creating a new experiment.\n"
     ]
    },
    {
     "name": "stdout",
     "output_type": "stream",
     "text": [
      "Accuracy: 0.82\n",
      "F1 Score: 0.82\n"
     ]
    }
   ],
   "source": [
    "# Configurar nombre del experimento\n",
    "mlflow.set_experiment(\"decision_tree_training\")\n",
    "\n",
    "with mlflow.start_run():\n",
    "    # Entrenar el modelo\n",
    "    model = DecisionTreeClassifier(\n",
    "        max_depth=3,\n",
    "        min_samples_split=4,\n",
    "        random_state=42\n",
    "    )\n",
    "    model.fit(X_train, y_train)\n",
    "\n",
    "    # Predicciones y métricas\n",
    "    y_pred = model.predict(X_train)\n",
    "    accuracy = accuracy_score(y_train, y_pred)\n",
    "    f1 = f1_score(y_train, y_pred, average=\"weighted\")\n",
    "\n",
    "    # Registrar parámetros y métricas\n",
    "    mlflow.log_param(\"max_depth\", 3)\n",
    "    mlflow.log_param(\"min_samples_split\", 4)\n",
    "    mlflow.log_metric(\"accuracy\", accuracy)\n",
    "    mlflow.log_metric(\"f1_score\", f1)\n",
    "\n",
    "    # Guardar y registrar el modelo como artefacto\n",
    "    with open(\"model_1.pkl\", \"wb\") as f:\n",
    "        pickle.dump(model, f)\n",
    "    mlflow.log_artifact(\"model_1.pkl\")\n",
    "\n",
    "    print(f\"Accuracy: {accuracy:.2f}\")\n",
    "    print(f\"F1 Score: {f1:.2f}\")"
   ]
  },
  {
   "cell_type": "code",
   "execution_count": 11,
   "id": "9f4fe34a",
   "metadata": {},
   "outputs": [
    {
     "name": "stdout",
     "output_type": "stream",
     "text": [
      "file:///home/gonzadzz/GitHub/mlops_istea/parcial/mlruns/0/1b10fe0bbe004c2ea2674dd5268cfc62/artifacts/model_1.pkl\n"
     ]
    }
   ],
   "source": [
    "uri = get_artifact_uri(\"model_1.pkl\") \n",
    "\n",
    "print(uri)"
   ]
  },
  {
   "cell_type": "code",
   "execution_count": 22,
   "id": "2c6dda5a",
   "metadata": {},
   "outputs": [
    {
     "name": "stdout",
     "output_type": "stream",
     "text": [
      "Accuracy: 0.93\n",
      "F1 Score: 0.93\n"
     ]
    }
   ],
   "source": [
    "with mlflow.start_run():\n",
    "    # Entrenar el modelo\n",
    "    model = DecisionTreeClassifier(\n",
    "        max_depth=5,\n",
    "        min_samples_split=2,\n",
    "        random_state=42\n",
    "    )\n",
    "    model.fit(X_train, y_train)\n",
    "\n",
    "    # Predicciones y métricas\n",
    "    y_pred = model.predict(X_train)\n",
    "    accuracy = accuracy_score(y_train, y_pred)\n",
    "    f1 = f1_score(y_train, y_pred, average=\"weighted\")\n",
    "\n",
    "    # Registrar parámetros y métricas\n",
    "    mlflow.log_param(\"max_depth\", 5)\n",
    "    mlflow.log_param(\"min_samples_split\", 2)\n",
    "    mlflow.log_metric(\"accuracy\", accuracy)\n",
    "    mlflow.log_metric(\"f1_score\", f1)\n",
    "\n",
    "    # Guardar y registrar el modelo como artefacto\n",
    "    with open(\"model_2.pkl\", \"wb\") as f:\n",
    "        pickle.dump(model, f)\n",
    "    mlflow.log_artifact(\"model_2.pkl\")\n",
    "\n",
    "    print(f\"Accuracy: {accuracy:.2f}\")\n",
    "    print(f\"F1 Score: {f1:.2f}\")"
   ]
  }
 ],
 "metadata": {
  "kernelspec": {
   "display_name": ".venv",
   "language": "python",
   "name": "python3"
  },
  "language_info": {
   "codemirror_mode": {
    "name": "ipython",
    "version": 3
   },
   "file_extension": ".py",
   "mimetype": "text/x-python",
   "name": "python",
   "nbconvert_exporter": "python",
   "pygments_lexer": "ipython3",
   "version": "3.12.3"
  }
 },
 "nbformat": 4,
 "nbformat_minor": 5
}
