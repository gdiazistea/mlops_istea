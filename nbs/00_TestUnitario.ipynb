{
  "cells": [
    {
      "cell_type": "code",
      "execution_count": 1,
      "metadata": {
        "id": "nSMU5Q2Eq1dP"
      },
      "outputs": [],
      "source": [
        "import pandas as pd\n",
        "import unittest"
      ]
    },
    {
      "cell_type": "code",
      "execution_count": 2,
      "metadata": {
        "id": "0wjKSat1r0ps"
      },
      "outputs": [],
      "source": [
        "def calcular_promedio(df, columna):\n",
        "  return df[columna].mean()"
      ]
    },
    {
      "cell_type": "code",
      "execution_count": 3,
      "metadata": {
        "id": "w28oARZNsDrf"
      },
      "outputs": [],
      "source": [
        "class TestPreprocesamiento(unittest.TestCase):\n",
        "  def test_calcular_promedio(self):\n",
        "    data = pd.DataFrame({'edad' : [20, 30, 40]})\n",
        "    self.assertEqual(calcular_promedio(data, 'edad'), 320)"
      ]
    },
    {
      "cell_type": "code",
      "execution_count": 4,
      "metadata": {
        "id": "mhyD5bvWszGa"
      },
      "outputs": [],
      "source": [
        "def ejecutar_prueba():\n",
        "  suite = unittest.TestLoader().loadTestsFromTestCase(TestPreprocesamiento)\n",
        "  unittest.TextTestRunner().run(suite)"
      ]
    },
    {
      "cell_type": "code",
      "execution_count": 5,
      "metadata": {
        "colab": {
          "base_uri": "https://localhost:8080/"
        },
        "id": "f_dnFd2mtMy2",
        "outputId": "944ca845-a600-4d7e-c710-603eacd3e24b"
      },
      "outputs": [
        {
          "name": "stderr",
          "output_type": "stream",
          "text": [
            "F\n",
            "======================================================================\n",
            "FAIL: test_calcular_promedio (__main__.TestPreprocesamiento.test_calcular_promedio)\n",
            "----------------------------------------------------------------------\n",
            "Traceback (most recent call last):\n",
            "  File \"/tmp/ipykernel_34007/2792647734.py\", line 4, in test_calcular_promedio\n",
            "    self.assertEqual(calcular_promedio(data, 'edad'), 320)\n",
            "AssertionError: np.float64(30.0) != 320\n",
            "\n",
            "----------------------------------------------------------------------\n",
            "Ran 1 test in 0.002s\n",
            "\n",
            "FAILED (failures=1)\n"
          ]
        }
      ],
      "source": [
        "ejecutar_prueba()"
      ]
    }
  ],
  "metadata": {
    "colab": {
      "provenance": []
    },
    "kernelspec": {
      "display_name": ".venv",
      "language": "python",
      "name": "python3"
    },
    "language_info": {
      "codemirror_mode": {
        "name": "ipython",
        "version": 3
      },
      "file_extension": ".py",
      "mimetype": "text/x-python",
      "name": "python",
      "nbconvert_exporter": "python",
      "pygments_lexer": "ipython3",
      "version": "3.12.3"
    }
  },
  "nbformat": 4,
  "nbformat_minor": 0
}
