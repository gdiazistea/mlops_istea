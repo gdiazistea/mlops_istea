{
  "cells": [
    {
      "cell_type": "markdown",
      "metadata": {
        "id": "4jcCubxM0wie"
      },
      "source": [
        "### Modelar"
      ]
    },
    {
      "cell_type": "code",
      "execution_count": 1,
      "metadata": {
        "colab": {
          "base_uri": "https://localhost:8080/"
        },
        "id": "oi87ZUFymjZw",
        "outputId": "f373d08d-9bfa-430c-e041-722378191b1b"
      },
      "outputs": [
        {
          "name": "stdout",
          "output_type": "stream",
          "text": [
            "Modelo entrenado y guardado en model.pkl\n"
          ]
        }
      ],
      "source": [
        "from sklearn.datasets import load_iris\n",
        "from sklearn.model_selection import train_test_split\n",
        "from sklearn.ensemble import RandomForestClassifier\n",
        "import joblib\n",
        "\n",
        "# Cargar dataset y separar\n",
        "data = load_iris()\n",
        "X_train, X_test, y_train, y_test = train_test_split(\n",
        "    data.data, data.target, test_size=0.2, random_state=42)\n",
        "\n",
        "# Entrenar modelo\n",
        "model = RandomForestClassifier(n_estimators=100, random_state=42)\n",
        "model.fit(X_train, y_train)\n",
        "\n",
        "# Guardar modelo serializado\n",
        "joblib.dump(model, 'model.pkl')\n",
        "print('Modelo entrenado y guardado en model.pkl')"
      ]
    },
    {
      "cell_type": "markdown",
      "metadata": {
        "id": "HSPt054n4qkF"
      },
      "source": [
        "### Desarrollar backend (API)"
      ]
    },
    {
      "cell_type": "code",
      "execution_count": 2,
      "metadata": {
        "id": "NcIggAEM1Wtu"
      },
      "outputs": [],
      "source": [
        "from flask import Flask, request, jsonify\n",
        "import joblib\n",
        "\n",
        "# Cargar modelo\n",
        "model = joblib.load('model.pkl')\n",
        "\n",
        "app = Flask(__name__)\n",
        "\n",
        "@app.route('/predict', methods=['POST'])\n",
        "def predict_flask():\n",
        "    data = request.json\n",
        "    features = data.get('features')\n",
        "    pred = model.predict([features])\n",
        "    return jsonify({'prediction': pred.tolist()})"
      ]
    },
    {
      "cell_type": "markdown",
      "metadata": {
        "id": "bNnhIdf14ySV"
      },
      "source": [
        "### Dearrollar Frontend"
      ]
    },
    {
      "cell_type": "code",
      "execution_count": 3,
      "metadata": {
        "id": "8qrFyUOO4RHE"
      },
      "outputs": [],
      "source": [
        "from flask import render_template_string\n",
        "\n",
        "# Definir ruta raíz para UI\n",
        "HTML_FORM = '''\n",
        "<!DOCTYPE html>\n",
        "<html>\n",
        "<head><title>Predicción Iris</title></head>\n",
        "<body>\n",
        "  <h2>Predicción API Flask</h2>\n",
        "  <form id='predict-form'>\n",
        "    <label>Sepal Length: <input type='number' step='any' name='sl' value='5.1'></label><br>\n",
        "    <label>Sepal Width: <input type='number' step='any' name='sw' value='3.5'></label><br>\n",
        "    <label>Petal Length: <input type='number' step='any' name='pl' value='1.4'></label><br>\n",
        "    <label>Petal Width: <input type='number' step='any' name='pw' value='0.2'></label><br>\n",
        "    <button type='button' onclick='send()'>Predecir</button>\n",
        "  </form>\n",
        "  <p id='result'></p>\n",
        "  <script>\n",
        "    function send() {\n",
        "      const form = document.getElementById('predict-form');\n",
        "      const data = [\n",
        "        parseFloat(form.sl.value),\n",
        "        parseFloat(form.sw.value),\n",
        "        parseFloat(form.pl.value),\n",
        "        parseFloat(form.pw.value)\n",
        "      ];\n",
        "      fetch('/predict', {\n",
        "        method: 'POST',\n",
        "        headers: { 'Content-Type': 'application/json' },\n",
        "        body: JSON.stringify({ features: data })\n",
        "      })\n",
        "      .then(response => response.json())\n",
        "      .then(json => {\n",
        "        document.getElementById('result').innerText = 'Prediction: ' + json.prediction;\n",
        "      });\n",
        "    }\n",
        "  </script>\n",
        "</body>\n",
        "</html>\n",
        "'''\n",
        "\n",
        "@app.route('/', methods=['GET'])\n",
        "def home():\n",
        "    return render_template_string(HTML_FORM)"
      ]
    },
    {
      "cell_type": "code",
      "execution_count": 4,
      "metadata": {
        "colab": {
          "base_uri": "https://localhost:8080/"
        },
        "id": "VIIHJWxX_BaR",
        "outputId": "07b4df60-4b65-4a6d-fd63-2bb6361f8bea"
      },
      "outputs": [
        {
          "name": "stdout",
          "output_type": "stream",
          "text": [
            "API Flask corriendo en http://127.0.0.1:5000\n"
          ]
        },
        {
          "name": "stderr",
          "output_type": "stream",
          "text": [
            "\u001b[31m\u001b[1mWARNING: This is a development server. Do not use it in a production deployment. Use a production WSGI server instead.\u001b[0m\n",
            " * Running on all addresses (0.0.0.0)\n",
            " * Running on http://127.0.0.1:5000\n",
            " * Running on http://192.168.167.66:5000\n",
            "\u001b[33mPress CTRL+C to quit\u001b[0m\n",
            "192.168.160.1 - - [02/May/2025 00:42:40] \"GET / HTTP/1.1\" 200 -\n",
            "192.168.160.1 - - [02/May/2025 00:42:40] \"\u001b[33mGET /favicon.ico HTTP/1.1\u001b[0m\" 404 -\n",
            "192.168.160.1 - - [02/May/2025 00:42:41] \"POST /predict HTTP/1.1\" 200 -\n",
            "192.168.160.1 - - [02/May/2025 00:42:46] \"POST /predict HTTP/1.1\" 200 -\n",
            "192.168.160.1 - - [02/May/2025 00:42:48] \"POST /predict HTTP/1.1\" 200 -\n",
            "192.168.160.1 - - [02/May/2025 00:42:53] \"POST /predict HTTP/1.1\" 200 -\n",
            "127.0.0.1 - - [02/May/2025 01:23:14] \"GET / HTTP/1.1\" 200 -\n",
            "127.0.0.1 - - [02/May/2025 01:23:14] \"\u001b[33mGET /favicon.ico HTTP/1.1\u001b[0m\" 404 -\n",
            "192.168.160.1 - - [02/May/2025 01:24:20] \"GET / HTTP/1.1\" 200 -\n",
            "192.168.160.1 - - [02/May/2025 01:24:20] \"\u001b[33mGET /favicon.ico HTTP/1.1\u001b[0m\" 404 -\n"
          ]
        }
      ],
      "source": [
        "import threading\n",
        "\n",
        "def run_flask():\n",
        "    # Use 'use_reloader=False' to prevent double threading\n",
        "    app.run(host='0.0.0.0', port=5000, use_reloader=False)\n",
        "\n",
        "# Crear y arrancar hilo\n",
        "flask_thread = threading.Thread(target=run_flask)\n",
        "flask_thread.daemon = True\n",
        "flask_thread.start()\n",
        "print('API Flask corriendo en http://127.0.0.1:5000')\n"
      ]
    }
  ],
  "metadata": {
    "colab": {
      "provenance": []
    },
    "kernelspec": {
      "display_name": ".venv",
      "language": "python",
      "name": "python3"
    },
    "language_info": {
      "codemirror_mode": {
        "name": "ipython",
        "version": 3
      },
      "file_extension": ".py",
      "mimetype": "text/x-python",
      "name": "python",
      "nbconvert_exporter": "python",
      "pygments_lexer": "ipython3",
      "version": "3.12.3"
    }
  },
  "nbformat": 4,
  "nbformat_minor": 0
}
